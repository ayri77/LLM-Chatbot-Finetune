{
 "cells": [
  {
   "cell_type": "markdown",
   "metadata": {},
   "source": [
    "### Imports"
   ]
  },
  {
   "cell_type": "code",
   "execution_count": 1,
   "metadata": {},
   "outputs": [],
   "source": [
    "import sys\n",
    "from pathlib import Path\n",
    "\n",
    "# Add the project root directory to Python path\n",
    "project_root = Path.cwd().parent\n",
    "if str(project_root) not in sys.path:\n",
    "    sys.path.append(str(project_root))"
   ]
  },
  {
   "cell_type": "code",
   "execution_count": 2,
   "metadata": {},
   "outputs": [],
   "source": [
    "from config import MODEL_ID, TRUST_REMOTE_CODE, USE_OPENAI_GENERATION\n",
    "from config import DATA_PATH\n",
    "from utils.data_preparation_utils import (\n",
    "    extract_blocks_from_docx, \n",
    "    is_valid_block,\n",
    "    block_to_sample\n",
    ")\n",
    "from utils.utils import load_model, load_generator\n",
    "from utils.prompt_utils import build_prompt\n",
    "from utils.model_interactions import generate_response, generate_response_openai\n",
    "\n",
    "from tqdm import tqdm\n",
    "import json\n",
    "import pandas as pd"
   ]
  },
  {
   "cell_type": "markdown",
   "metadata": {},
   "source": [
    "### 📄 Prepare Training Samples from .docx\n",
    "\n",
    "1. Load the teaching document with dialogs.\n",
    "2. Extract and filter meaningful blocks.\n",
    "3. Generate the instruction and system prompt for each block.\n",
    "4. Use the language model to generate assistant responses.\n"
   ]
  },
  {
   "cell_type": "code",
   "execution_count": 3,
   "metadata": {},
   "outputs": [
    {
     "name": "stdout",
     "output_type": "stream",
     "text": [
      "Loaded 27 samples\n"
     ]
    }
   ],
   "source": [
    "docx_path = DATA_PATH / \"Dialoge neu.docx\"\n",
    "raw_blocks = extract_blocks_from_docx(docx_path)\n",
    "\n",
    "raw_blocks = [b for b in raw_blocks if is_valid_block(b)]\n",
    "\n",
    "samples = [block_to_sample(block) for block in raw_blocks]\n",
    "print(\"Loaded {} samples\".format(len(samples)))"
   ]
  },
  {
   "cell_type": "code",
   "execution_count": 4,
   "metadata": {},
   "outputs": [],
   "source": [
    "if not USE_OPENAI_GENERATION:\n",
    "    tokenizer, model = load_model(MODEL_ID, TRUST_REMOTE_CODE)\n",
    "    generator = load_generator(model, tokenizer)"
   ]
  },
  {
   "cell_type": "markdown",
   "metadata": {},
   "source": [
    "### 💾 Save Dataset with Instructions and Responses\n",
    "\n",
    "Format: one sample per line in `.jsonl`, with fields:\n",
    "- `system`: system-level instruction\n",
    "- `instruction`: user question\n",
    "- `response`: model answer (generated)\n"
   ]
  },
  {
   "cell_type": "markdown",
   "metadata": {},
   "source": [
    "#### Open AI  GPT-4"
   ]
  },
  {
   "cell_type": "code",
   "execution_count": 5,
   "metadata": {},
   "outputs": [
    {
     "name": "stderr",
     "output_type": "stream",
     "text": [
      "Answer generation (OpenAI): 100%|██████████| 27/27 [05:18<00:00, 11.78s/it]\n"
     ]
    }
   ],
   "source": [
    "if USE_OPENAI_GENERATION:\n",
    "    for i, s in enumerate(tqdm(samples, desc=\"Answer generation (OpenAI)\")):\n",
    "        try:\n",
    "            gen = generate_response_openai(s[\"system\"], s[\"instruction\"], model=\"gpt-4\")\n",
    "            s[\"response\"] = gen\n",
    "        except Exception as e:\n",
    "            print(f\"❌ Error on sample {i}:\", e)"
   ]
  },
  {
   "cell_type": "markdown",
   "metadata": {},
   "source": [
    "#### Deepseek AI R1-Qwen"
   ]
  },
  {
   "cell_type": "code",
   "execution_count": 8,
   "metadata": {},
   "outputs": [
    {
     "name": "stderr",
     "output_type": "stream",
     "text": [
      "Answer generation:   0%|          | 0/27 [00:00<?, ?it/s]The following generation flags are not valid and may be ignored: ['temperature']. Set `TRANSFORMERS_VERBOSITY=info` for more details.\n",
      "Answer generation:   4%|▎         | 1/27 [01:20<35:02, 80.86s/it]The following generation flags are not valid and may be ignored: ['temperature']. Set `TRANSFORMERS_VERBOSITY=info` for more details.\n"
     ]
    },
    {
     "name": "stdout",
     "output_type": "stream",
     "text": [
      "📥 Prompt 0: <|im_start|>system\n",
      "Ты — преподаватель немецкого языка для русскоязычных студентов. Объясняй простыми словами, корректиру ...\n",
      "📤 Response 0: assierer: Guten Tag! Ich helfe Ihnen gerne weiter.  \n",
      "\n",
      "2. **Wo ist was?**  \n",
      "   - Zeichne eine einfache Einrichtung wie ein Bad oder eine Küche und male Möbel und Gegenstände ein.  \n",
      "   - Frage: Wo ist d ...\n",
      "---\n"
     ]
    },
    {
     "name": "stderr",
     "output_type": "stream",
     "text": [
      "Answer generation:   7%|▋         | 2/27 [02:31<31:12, 74.89s/it]The following generation flags are not valid and may be ignored: ['temperature']. Set `TRANSFORMERS_VERBOSITY=info` for more details.\n"
     ]
    },
    {
     "name": "stdout",
     "output_type": "stream",
     "text": [
      "📥 Prompt 1: <|im_start|>system\n",
      "Ты — преподаватель немецкого языка для русскоязычных студентов. Объясняй простыми словами, корректиру ...\n",
      "📤 Response 1: irm\" в singular (нужен один) и \"Regenschirme\" в plural (нужны несколько) – это правильная форма множественного числа. *Корректно*.\n",
      "\n",
      "2.  **Du:** \"Moment bitte, ich schaue nach.\" – **Корректно**. Это ст ...\n",
      "---\n"
     ]
    },
    {
     "name": "stderr",
     "output_type": "stream",
     "text": [
      "Answer generation:  11%|█         | 3/27 [03:42<29:19, 73.30s/it]The following generation flags are not valid and may be ignored: ['temperature']. Set `TRANSFORMERS_VERBOSITY=info` for more details.\n"
     ]
    },
    {
     "name": "stdout",
     "output_type": "stream",
     "text": [
      "📥 Prompt 2: <|im_start|>system\n",
      "Ты — преподаватель немецкого языка для русскоязычных студентов. Объясняй простыми словами, корректиру ...\n",
      "📤 Response 2: гола `hat` (Präsens) в Indikativ nach Sina, вопросительный знак. `Fragt nach` (Präsens) – правильно для описания действия в Present. `Verfügbarkeit` – правильное слово.  \n",
      "\n",
      "2.  **Haben Sie diese Tasse  ...\n",
      "---\n"
     ]
    },
    {
     "name": "stderr",
     "output_type": "stream",
     "text": [
      "Answer generation:  15%|█▍        | 4/27 [05:14<30:47, 80.33s/it]The following generation flags are not valid and may be ignored: ['temperature']. Set `TRANSFORMERS_VERBOSITY=info` for more details.\n"
     ]
    },
    {
     "name": "stdout",
     "output_type": "stream",
     "text": [
      "📥 Prompt 3: <|im_start|>system\n",
      "Ты — преподаватель немецкого языка для русскоязычных студентов. Объясняй простыми словами, корректиру ...\n",
      "📤 Response 3: - стандартный вопрос на A2. \"Da ist kein Preis.\" - логично объясняет причину, почему он не может прочитать цену.\n",
      "\n",
      "2.  **Du (Продавец):**\n",
      "    *   \"Einen Moment bitte, ich frage an der Kasse.\" (Подождит ...\n",
      "---\n"
     ]
    },
    {
     "name": "stderr",
     "output_type": "stream",
     "text": [
      "Answer generation:  19%|█▊        | 5/27 [06:45<30:53, 84.25s/it]The following generation flags are not valid and may be ignored: ['temperature']. Set `TRANSFORMERS_VERBOSITY=info` for more details.\n"
     ]
    },
    {
     "name": "stdout",
     "output_type": "stream",
     "text": [
      "📥 Prompt 4: <|im_start|>system\n",
      "Ты — преподаватель немецкого языка для русскоязычных студентов. Объясняй простыми словами, корректиру ...\n",
      "📤 Response 4: finde ich Klebeband?\" (Извините, где я могу найти скотч?)\n",
      "\n",
      "*   **Du:** \"Das Klebeband ist vorne links im Regal, bei den Büroartikeln.\" (Скотч находится в левом верхнем ящике шкафа/прилавка, среди канц ...\n",
      "---\n"
     ]
    },
    {
     "name": "stderr",
     "output_type": "stream",
     "text": [
      "Answer generation:  22%|██▏       | 6/27 [08:12<29:49, 85.23s/it]The following generation flags are not valid and may be ignored: ['temperature']. Set `TRANSFORMERS_VERBOSITY=info` for more details.\n"
     ]
    },
    {
     "name": "stdout",
     "output_type": "stream",
     "text": [
      "📥 Prompt 5: <|im_start|>system\n",
      "Ты — преподаватель немецкого языка для русскоязычных студентов. Объясняй простыми словами, корректиру ...\n",
      "📤 Response 5: ов на них.\n",
      "\n",
      "**Упражнение:**\n",
      "\n",
      "1.  **Задание:** Предположим, вы в магазине. Продавец спрашивает цену товара, а покупатель отвечает. Напишите реплики продавца и покупателя для каждого из следующих случае ...\n",
      "---\n"
     ]
    },
    {
     "name": "stderr",
     "output_type": "stream",
     "text": [
      "Answer generation:  26%|██▌       | 7/27 [09:42<28:55, 86.76s/it]The following generation flags are not valid and may be ignored: ['temperature']. Set `TRANSFORMERS_VERBOSITY=info` for more details.\n"
     ]
    },
    {
     "name": "stdout",
     "output_type": "stream",
     "text": [
      "📥 Prompt 6: <|im_start|>system\n",
      "Ты — преподаватель немецкого языка для русскоязычных студентов. Объясняй простыми словами, корректиру ...\n",
      "📤 Response 6: **Farbe/Größe** - Это два слова, объединенные слэшем. В данном случае, это означает, что продавец предлагает выбор альтернативы по цвету ИЛИ размеру. Это приемлемая форма для объяснения.\n",
      "\n",
      "2.  **Gibt e ...\n",
      "---\n"
     ]
    },
    {
     "name": "stderr",
     "output_type": "stream",
     "text": [
      "Answer generation:  30%|██▉       | 8/27 [11:14<28:02, 88.54s/it]The following generation flags are not valid and may be ignored: ['temperature']. Set `TRANSFORMERS_VERBOSITY=info` for more details.\n"
     ]
    },
    {
     "name": "stdout",
     "output_type": "stream",
     "text": [
      "📥 Prompt 7: <|im_start|>system\n",
      "Ты — преподаватель немецкого языка для русскоязычных студентов. Объясняй простыми словами, корректиру ...\n",
      "📤 Response 7: . Statt \"Angebote sind auf dem Schild markiert\" könnte man besser \"Preisevergleiche\" sagen oder den Kontext klarstellen.\n",
      "\n",
      "Gut, für die Schüler könnte ich den Dialog etwas umformulieren und die Aufgabe ...\n",
      "---\n"
     ]
    },
    {
     "name": "stderr",
     "output_type": "stream",
     "text": [
      "Answer generation:  33%|███▎      | 9/27 [12:32<25:35, 85.33s/it]The following generation flags are not valid and may be ignored: ['temperature']. Set `TRANSFORMERS_VERBOSITY=info` for more details.\n"
     ]
    },
    {
     "name": "stdout",
     "output_type": "stream",
     "text": [
      "📥 Prompt 8: <|im_start|>system\n",
      "Ты — преподаватель немецкого языка для русскоязычных студентов. Объясняй простыми словами, корректиру ...\n",
      "📤 Response 8: гом товаре или ситуации. Например:\n",
      "\n",
      "**Покупатель:** Ich möchte wissen, ob Sie auch am Freitag neue Ware bekommen.\n",
      "\n",
      "---\n",
      "\n",
      "Wenn Sie keine weiteren Fragen haben, sagen Sie \"vielen Dank\", и я остановлю диа ...\n",
      "---\n"
     ]
    },
    {
     "name": "stderr",
     "output_type": "stream",
     "text": [
      "Answer generation:  37%|███▋      | 10/27 [13:57<24:04, 84.98s/it]You seem to be using the pipelines sequentially on GPU. In order to maximize efficiency please use a dataset\n",
      "The following generation flags are not valid and may be ignored: ['temperature']. Set `TRANSFORMERS_VERBOSITY=info` for more details.\n"
     ]
    },
    {
     "name": "stdout",
     "output_type": "stream",
     "text": [
      "📥 Prompt 9: <|im_start|>system\n",
      "Ты — преподаватель немецкого языка для русскоязычных студентов. Объясняй простыми словами, корректиру ...\n",
      "📤 Response 9: *   Правильность: все действия описаны корректно.\n",
      "\n",
      "**Упражнение для A2:**\n",
      "\n",
      "Давайте поиграем в эту ситуацию. Я буду продавцом, вы будете покупателем. Пишите только свои ответы на русском, используя про ...\n",
      "---\n"
     ]
    },
    {
     "name": "stderr",
     "output_type": "stream",
     "text": [
      "Answer generation:  41%|████      | 11/27 [14:29<18:21, 68.82s/it]The following generation flags are not valid and may be ignored: ['temperature']. Set `TRANSFORMERS_VERBOSITY=info` for more details.\n"
     ]
    },
    {
     "name": "stdout",
     "output_type": "stream",
     "text": [
      "📥 Prompt 10: <|im_start|>system\n",
      "Ты — преподаватель немецкого языка для русскоязычных студентов. Объясняй простыми словами, корректиру ...\n",
      "📤 Response 10:  ...\n",
      "---\n"
     ]
    },
    {
     "name": "stderr",
     "output_type": "stream",
     "text": [
      "Answer generation:  44%|████▍     | 12/27 [15:52<18:18, 73.22s/it]The following generation flags are not valid and may be ignored: ['temperature']. Set `TRANSFORMERS_VERBOSITY=info` for more details.\n"
     ]
    },
    {
     "name": "stdout",
     "output_type": "stream",
     "text": [
      "📥 Prompt 11: <|im_start|>system\n",
      "Ты — преподаватель немецкого языка для русскоязычных студентов. Объясняй простыми словами, корректиру ...\n",
      "📤 Response 11: auf Russisch mit mir sprechen. Dein Niveau ist A2.\n",
      "\n",
      "Beispiel-Frage: \"Guten Tag! Wann öffneten Sie gestern morgen?\"\n",
      "\n",
      "Wenn du keine Frage hast, sagst du einfach \"Danke\".\n",
      "\n",
      "Guten Tag! Viel Erfolg beim Übe ...\n",
      "---\n"
     ]
    },
    {
     "name": "stderr",
     "output_type": "stream",
     "text": [
      "Answer generation:  48%|████▊     | 13/27 [17:15<17:45, 76.13s/it]The following generation flags are not valid and may be ignored: ['temperature']. Set `TRANSFORMERS_VERBOSITY=info` for more details.\n"
     ]
    },
    {
     "name": "stdout",
     "output_type": "stream",
     "text": [
      "📥 Prompt 12: <|im_start|>system\n",
      "Ты — преподаватель немецкого языка для русскоязычных студентов. Объясняй простыми словами, корректиру ...\n",
      "📤 Response 12: chseln\" ist richtig. Es ist besser zu sagen \"kein Wechselgeld\", weil Wechselgeld ist das Gesamtkonzept. Aber \"kein Geld\" ist auch oft verständlich.\n",
      "\n",
      "3.  **Antwort des Kunden:** \"Alles klar, danke trot ...\n",
      "---\n"
     ]
    },
    {
     "name": "stderr",
     "output_type": "stream",
     "text": [
      "Answer generation:  52%|█████▏    | 14/27 [17:44<13:24, 61.91s/it]The following generation flags are not valid and may be ignored: ['temperature']. Set `TRANSFORMERS_VERBOSITY=info` for more details.\n"
     ]
    },
    {
     "name": "stdout",
     "output_type": "stream",
     "text": [
      "📥 Prompt 13: <|im_start|>system\n",
      "Ты — преподаватель немецкого языка для русскоязычных студентов. Объясняй простыми словами, корректиру ...\n",
      "📤 Response 13:  ...\n",
      "---\n"
     ]
    },
    {
     "name": "stderr",
     "output_type": "stream",
     "text": [
      "Answer generation:  56%|█████▌    | 15/27 [18:10<10:11, 50.99s/it]The following generation flags are not valid and may be ignored: ['temperature']. Set `TRANSFORMERS_VERBOSITY=info` for more details.\n"
     ]
    },
    {
     "name": "stdout",
     "output_type": "stream",
     "text": [
      "📥 Prompt 14: <|im_start|>system\n",
      "Ты — преподаватель немецкого языка для русскоязычных студентов. Объясняй простыми словами, корректиру ...\n",
      "📤 Response 14:  ...\n",
      "---\n"
     ]
    },
    {
     "name": "stderr",
     "output_type": "stream",
     "text": [
      "Answer generation:  59%|█████▉    | 16/27 [19:31<11:02, 60.26s/it]The following generation flags are not valid and may be ignored: ['temperature']. Set `TRANSFORMERS_VERBOSITY=info` for more details.\n"
     ]
    },
    {
     "name": "stdout",
     "output_type": "stream",
     "text": [
      "📥 Prompt 15: <|im_start|>system\n",
      "Ты — преподаватель немецкого языка для русскоязычных студентов. Объясняй простыми словами, корректиру ...\n",
      "📤 Response 15: klärung:* \"Ja\" = Yes. \"gerne\" = happily, gladly. Das ist ein sehr freundlicher Ausdruck, dass man zufrieden ist, die Bitte erfüllen zu können. \"–\" ist oft eine Pause. \"bitte vorsichtig\" = \"please be c ...\n",
      "---\n"
     ]
    },
    {
     "name": "stderr",
     "output_type": "stream",
     "text": [
      "Answer generation:  63%|██████▎   | 17/27 [20:54<11:08, 66.84s/it]The following generation flags are not valid and may be ignored: ['temperature']. Set `TRANSFORMERS_VERBOSITY=info` for more details.\n"
     ]
    },
    {
     "name": "stdout",
     "output_type": "stream",
     "text": [
      "📥 Prompt 16: <|im_start|>system\n",
      "Ты — преподаватель немецкого языка для русскоязычных студентов. Объясняй простыми словами, корректиру ...\n",
      "📤 Response 16: s ist teuer. Kann ich eine kleinere Tüte bekommen? (Пожалуйста, дорого. Можно получить меньшую сумку?)\n",
      "\n",
      "**Вопрос 9:** Danke, das ist gut. (Спасибо, это хорошо.)\n",
      "\n",
      "**Вопрос 10:** Entschuldigung, wo sind ...\n",
      "---\n"
     ]
    },
    {
     "name": "stderr",
     "output_type": "stream",
     "text": [
      "Answer generation:  67%|██████▋   | 18/27 [21:21<08:15, 55.06s/it]The following generation flags are not valid and may be ignored: ['temperature']. Set `TRANSFORMERS_VERBOSITY=info` for more details.\n"
     ]
    },
    {
     "name": "stdout",
     "output_type": "stream",
     "text": [
      "📥 Prompt 17: <|im_start|>system\n",
      "Ты — преподаватель немецкого языка для русскоязычных студентов. Объясняй простыми словами, корректиру ...\n",
      "📤 Response 17:  ...\n",
      "---\n"
     ]
    },
    {
     "name": "stderr",
     "output_type": "stream",
     "text": [
      "Answer generation:  70%|███████   | 19/27 [22:46<08:32, 64.05s/it]The following generation flags are not valid and may be ignored: ['temperature']. Set `TRANSFORMERS_VERBOSITY=info` for more details.\n"
     ]
    },
    {
     "name": "stdout",
     "output_type": "stream",
     "text": [
      "📥 Prompt 18: <|im_start|>system\n",
      "Ты — преподаватель немецкого языка для русскоязычных студентов. Объясняй простыми словами, корректиру ...\n",
      "📤 Response 18: дом с, \"den Putzmitteln\" – гендерный падеж (именительный) для множественного числа \"Putzmittel\" (cleaning supplies).\n",
      "\n",
      "3.  **\"Bitte!\" und \"Danke!\":**\n",
      "    *   \"Danke!\" – Служит для благодарности, правил ...\n",
      "---\n"
     ]
    },
    {
     "name": "stderr",
     "output_type": "stream",
     "text": [
      "Answer generation:  74%|███████▍  | 20/27 [23:18<06:20, 54.30s/it]The following generation flags are not valid and may be ignored: ['temperature']. Set `TRANSFORMERS_VERBOSITY=info` for more details.\n"
     ]
    },
    {
     "name": "stdout",
     "output_type": "stream",
     "text": [
      "📥 Prompt 19: <|im_start|>system\n",
      "Ты — преподаватель немецкого языка для русскоязычных студентов. Объясняй простыми словами, корректиру ...\n",
      "📤 Response 19:  ...\n",
      "---\n"
     ]
    },
    {
     "name": "stderr",
     "output_type": "stream",
     "text": [
      "Answer generation:  78%|███████▊  | 21/27 [24:39<06:14, 62.47s/it]The following generation flags are not valid and may be ignored: ['temperature']. Set `TRANSFORMERS_VERBOSITY=info` for more details.\n"
     ]
    },
    {
     "name": "stdout",
     "output_type": "stream",
     "text": [
      "📥 Prompt 20: <|im_start|>system\n",
      "Ты — преподаватель немецкого языка для русскоязычных студентов. Объясняй простыми словами, корректиру ...\n",
      "📤 Response 20: Aber deine Frage ist etwas unklar. Du meinst wahrscheinlich: \"Gibt es Nachschub für dieses Produkt?\" oder \"Wann kommt Nachschub für dieses Produkt?\"\n",
      "\n",
      "Korrekt wäre: \"Gibt es Nachschub für dieses Produk ...\n",
      "---\n"
     ]
    },
    {
     "name": "stderr",
     "output_type": "stream",
     "text": [
      "Answer generation:  81%|████████▏ | 22/27 [25:43<05:14, 62.93s/it]The following generation flags are not valid and may be ignored: ['temperature']. Set `TRANSFORMERS_VERBOSITY=info` for more details.\n"
     ]
    },
    {
     "name": "stdout",
     "output_type": "stream",
     "text": [
      "📥 Prompt 21: <|im_start|>system\n",
      "Ты — преподаватель немецкого языка для русскоязычных студентов. Объясняй простыми словами, корректиру ...\n",
      "📤 Response 21: en, indem er eine Frage stellt. Ich sollte ihm helfen, eine passende Frage zu formulieren, die zum Thema des Dialogs passt (Verkaufsstelle, Produkteigenschaften). \n",
      "\n",
      "Vielleicht hat er Angst, dass seine ...\n",
      "---\n"
     ]
    },
    {
     "name": "stderr",
     "output_type": "stream",
     "text": [
      "Answer generation:  85%|████████▌ | 23/27 [27:19<04:51, 72.80s/it]The following generation flags are not valid and may be ignored: ['temperature']. Set `TRANSFORMERS_VERBOSITY=info` for more details.\n"
     ]
    },
    {
     "name": "stdout",
     "output_type": "stream",
     "text": [
      "📥 Prompt 22: <|im_start|>system\n",
      "Ты — преподаватель немецкого языка для русскоязычных студентов. Объясняй простыми словами, корректиру ...\n",
      "📤 Response 22: значающая \"I'm sorry\", для A2.\n",
      "    *   \"Vielleicht ist es später noch da.\" - \"Vielleicht\" (в значении \"maybe\") и \"ist es\" (возвратный вопрос) правильно согласованы. \"Später\" (дative?) - предложенный п ...\n",
      "---\n"
     ]
    },
    {
     "name": "stderr",
     "output_type": "stream",
     "text": [
      "Answer generation:  89%|████████▉ | 24/27 [28:47<03:52, 77.39s/it]The following generation flags are not valid and may be ignored: ['temperature']. Set `TRANSFORMERS_VERBOSITY=info` for more details.\n"
     ]
    },
    {
     "name": "stdout",
     "output_type": "stream",
     "text": [
      "📥 Prompt 23: <|im_start|>system\n",
      "Ты — преподаватель немецкого языка для русскоязычных студентов. Объясняй простыми словами, корректиру ...\n",
      "📤 Response 23: Antwort des Kunden korrigieren, если вы ошибаетесь. Du darfst nur die Antwort des Kunden korrigieren, если вы ошибаетесь. Du darfst nur die Antwort des Kunden korrigieren, если вы ошибаетесь. Du darfs ...\n",
      "---\n"
     ]
    },
    {
     "name": "stderr",
     "output_type": "stream",
     "text": [
      "Answer generation:  93%|█████████▎| 25/27 [30:15<02:41, 80.62s/it]The following generation flags are not valid and may be ignored: ['temperature']. Set `TRANSFORMERS_VERBOSITY=info` for more details.\n"
     ]
    },
    {
     "name": "stdout",
     "output_type": "stream",
     "text": [
      "📥 Prompt 24: <|im_start|>system\n",
      "Ты — преподаватель немецкого языка для русскоязычных студентов. Объясняй простыми словами, корректиру ...\n",
      "📤 Response 24: овать только предложения уровня A2. Ты должен использовать только предложения уровня A2. Ты должен использовать только предложения уровня A2. Ты должен использовать только предложения уровня A/2. Ты д ...\n",
      "---\n"
     ]
    },
    {
     "name": "stderr",
     "output_type": "stream",
     "text": [
      "Answer generation:  96%|█████████▋| 26/27 [31:15<01:14, 74.16s/it]The following generation flags are not valid and may be ignored: ['temperature']. Set `TRANSFORMERS_VERBOSITY=info` for more details.\n"
     ]
    },
    {
     "name": "stdout",
     "output_type": "stream",
     "text": [
      "📥 Prompt 25: <|im_start|>system\n",
      "Ты — преподаватель немецкого языка для русскоязычных студентов. Объясняй простыми словами, корректиру ...\n",
      "📤 Response 25: \"Когда снова...\" или \"Сколько ещё времени...\".\n",
      "*   **Neue Angebote gibt es jede Woche – ab Montag.** - Ответ тоже правильный. Он использует простую структуру с \"gibt es\" (есть) и \"jede Woche\" (каждую  ...\n",
      "---\n"
     ]
    },
    {
     "name": "stderr",
     "output_type": "stream",
     "text": [
      "Answer generation: 100%|██████████| 27/27 [32:44<00:00, 72.76s/it]"
     ]
    },
    {
     "name": "stdout",
     "output_type": "stream",
     "text": [
      "📥 Prompt 26: <|im_start|>system\n",
      "Ты — преподаватель немецкого языка для русскоязычных студентов. Объясняй простыми словами, корректиру ...\n",
      "📤 Response 26: annen:** Scan\n",
      "\n",
      "3.  **Kunde:** \"Danke!\" (Thank you!)\n",
      "\n",
      "4.  **Du (Verkäufer):** \"Bitte!\" (You're welcome!)\n",
      "\n",
      "**Вопросы и ответы в рамках диалога (A2 Niveau):**\n",
      "\n",
      "**Frage 1 (Kunde):**  \n",
      "Was bedeutet \"Preiss ...\n",
      "---\n"
     ]
    },
    {
     "name": "stderr",
     "output_type": "stream",
     "text": [
      "\n"
     ]
    }
   ],
   "source": [
    "if not USE_OPENAI_GENERATION:\n",
    "    for i, s in enumerate(tqdm(samples, desc=\"Answer generation\")):\n",
    "        prompt = build_prompt(s[\"system\"], s[\"instruction\"])\n",
    "        gen = generate_response(generator, prompt, max_tokens=1024)\n",
    "        response_only = gen[len(prompt):].strip()\n",
    "        s[\"response\"] = response_only\n",
    "        print(f\"📥 Prompt {i}:\", prompt[:120], \"...\")\n",
    "        print(f\"📤 Response {i}:\", response_only[:200], \"...\")\n",
    "        print(\"---\")\n"
   ]
  },
  {
   "cell_type": "code",
   "execution_count": 6,
   "metadata": {},
   "outputs": [
    {
     "name": "stdout",
     "output_type": "stream",
     "text": [
      "✅ Saved train_annotated.jsonl\n"
     ]
    }
   ],
   "source": [
    "train_path = DATA_PATH / \"train_annotated.jsonl\"\n",
    "with open(train_path, \"w\", encoding=\"utf-8\") as f:\n",
    "    for s in samples:\n",
    "        json.dump(s, f, ensure_ascii=False)\n",
    "        f.write(\"\\n\")\n",
    "print(\"✅ Saved train_annotated.jsonl\")"
   ]
  },
  {
   "cell_type": "code",
   "execution_count": 7,
   "metadata": {},
   "outputs": [],
   "source": [
    "df = pd.DataFrame(samples)\n",
    "df_review = df[[\"instruction\", \"response\"]]\n",
    "df_review.columns = [\"User Prompt\", \"Model Response\"]\n",
    "\n",
    "# Save as Excel and DOCX\n",
    "xlsx_path = DATA_PATH / \"train_annotated_review.xlsx\"\n",
    "df_review.to_excel(xlsx_path, index=False)\n",
    "\n",
    "import docx\n",
    "from docx.shared import Pt\n",
    "\n",
    "doc = docx.Document()\n",
    "doc.add_heading(\"AI Responses for Review\", 0)\n",
    "\n",
    "for i, row in df_review.iterrows():\n",
    "    doc.add_paragraph(f\"{i+1}. Prompt:\", style='Heading 2')\n",
    "    doc.add_paragraph(row[\"User Prompt\"])\n",
    "    doc.add_paragraph(\"Response:\", style='Heading 2')\n",
    "    doc.add_paragraph(row[\"Model Response\"])\n",
    "    doc.add_paragraph(\"\\n\")\n",
    "\n",
    "docx_path = DATA_PATH / \"train_annotated_review.docx\"\n",
    "doc.save(docx_path)"
   ]
  },
  {
   "cell_type": "markdown",
   "metadata": {},
   "source": [
    "### 🔁 Convert to Supervised Fine-Tuning (SFT) Format\n",
    "\n",
    "Each example is structured as:\n",
    "```json\n",
    "{\n",
    "  \"messages\": [\n",
    "    {\"role\": \"system\", \"content\": \"...\"},\n",
    "    {\"role\": \"user\", \"content\": \"...\"},\n",
    "    {\"role\": \"assistant\", \"content\": \"...\"}\n",
    "  ]\n",
    "}\n"
   ]
  },
  {
   "cell_type": "code",
   "execution_count": 10,
   "metadata": {},
   "outputs": [
    {
     "name": "stdout",
     "output_type": "stream",
     "text": [
      "✅ Saved train_sft.jsonl\n"
     ]
    }
   ],
   "source": [
    "with open(train_path, \"r\", encoding=\"utf-8\") as f:\n",
    "    raw_samples = [json.loads(line) for line in f if line.strip()]\n",
    "\n",
    "train_sft_path = DATA_PATH / \"train_sft.jsonl\"\n",
    "with open(train_sft_path, \"w\", encoding=\"utf-8\") as f:\n",
    "    for s in raw_samples:\n",
    "        obj = {\n",
    "            \"messages\": [\n",
    "                {\"role\": \"system\", \"content\": s[\"system\"]},\n",
    "                {\"role\": \"user\", \"content\": s[\"instruction\"]},\n",
    "                {\"role\": \"assistant\", \"content\": s[\"response\"]}\n",
    "            ]\n",
    "        }\n",
    "        json.dump(obj, f, ensure_ascii=False)\n",
    "        f.write(\"\\n\")\n",
    "\n",
    "print(\"✅ Saved train_sft.jsonl\")"
   ]
  }
 ],
 "metadata": {
  "kernelspec": {
   "display_name": ".venv",
   "language": "python",
   "name": "python3"
  },
  "language_info": {
   "codemirror_mode": {
    "name": "ipython",
    "version": 3
   },
   "file_extension": ".py",
   "mimetype": "text/x-python",
   "name": "python",
   "nbconvert_exporter": "python",
   "pygments_lexer": "ipython3",
   "version": "3.11.9"
  }
 },
 "nbformat": 4,
 "nbformat_minor": 2
}
