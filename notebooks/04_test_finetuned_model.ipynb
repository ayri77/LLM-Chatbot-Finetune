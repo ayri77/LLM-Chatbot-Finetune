{
 "cells": [
  {
   "cell_type": "code",
   "execution_count": 2,
   "metadata": {},
   "outputs": [],
   "source": [
    "import sys\n",
    "from pathlib import Path\n",
    "\n",
    "# Add the project root directory to Python path\n",
    "project_root = Path.cwd().parent\n",
    "if str(project_root) not in sys.path:\n",
    "    sys.path.append(str(project_root))"
   ]
  },
  {
   "cell_type": "code",
   "execution_count": 3,
   "metadata": {},
   "outputs": [],
   "source": [
    "from utils.model_interactions import build_prompt\n",
    "from config import MODELS_PATH, MODEL_ID"
   ]
  },
  {
   "cell_type": "code",
   "execution_count": 4,
   "metadata": {},
   "outputs": [],
   "source": [
    "import os\n",
    "\n",
    "os.environ[\"PYTHONIOENCODING\"] = \"utf-8\""
   ]
  },
  {
   "cell_type": "code",
   "execution_count": null,
   "metadata": {},
   "outputs": [
    {
     "name": "stderr",
     "output_type": "stream",
     "text": [
      "Unrecognized keys in `rope_scaling` for 'rope_type'='yarn': {'attn_factor'}\n"
     ]
    },
    {
     "data": {
      "application/vnd.jupyter.widget-view+json": {
       "model_id": "d486504a30e84734a4a8ce9e9fad1c61",
       "version_major": 2,
       "version_minor": 0
      },
      "text/plain": [
       "Loading checkpoint shards:   0%|          | 0/2 [00:00<?, ?it/s]"
      ]
     },
     "metadata": {},
     "output_type": "display_data"
    },
    {
     "name": "stderr",
     "output_type": "stream",
     "text": [
      "Device set to use cpu\n"
     ]
    }
   ],
   "source": [
    "from transformers import AutoTokenizer, AutoModelForCausalLM\n",
    "from transformers.pipelines import pipeline\n",
    "from peft import PeftModel, PeftConfig\n",
    "import torch\n",
    "\n",
    "model_path = MODELS_PATH / \"qwen-lora-finetuned\"\n",
    "\n",
    "tokenizer = AutoTokenizer.from_pretrained(\n",
    "    MODEL_ID, \n",
    "    trust_remote_code=True\n",
    ")\n",
    "base = AutoModelForCausalLM.from_pretrained(\n",
    "    MODEL_ID,\n",
    "    torch_dtype = torch.float16,\n",
    "    device_map = \"cpu\",\n",
    "    trust_remote_code = True\n",
    ")\n",
    "\n",
    "model = PeftModel.from_pretrained(\n",
    "    base,\n",
    "    model_path,\n",
    "    torch_dtype = torch.float16\n",
    ")\n",
    "model = model.merge_and_unload()\n",
    "# Move to device after merging\n",
    "device = \"cuda\" if torch.cuda.is_available() else \"cpu\"\n",
    "model = model.to(device)\n",
    "\n",
    "pipe = pipeline(\"text-generation\", model=model, tokenizer=tokenizer)"
   ]
  },
  {
   "cell_type": "code",
   "execution_count": 10,
   "metadata": {},
   "outputs": [
    {
     "name": "stdout",
     "output_type": "stream",
     "text": [
      "В этом диалоге нет грамматических ошибок, но есть несколько моментов, которые можно улучшить с точки зрения языковой правильности и культурного контекста.\n",
      "\n",
      "1. Kunde: Ich möchte einen Milch. \n",
      "Клиент хочет сказать \"я хочу молока\", но в немецком языке после глагола \"möchte\" (хочу) используется артикль \"einen\". В русском языке это выражение звучит как \"Я хочу молока\", поэтому в немецком языке клиент должен сказать \"Ich möchte einen Milch.\" или \"Ich möchte eine Milch.\" в зависимости от контекста. В данном случае клиент хочет молоко, поэтому он должен использовать \"einen\". \n",
      "\n",
      "2. Verkäufer: Eine Milch oder einen Saft? \n",
      "Продавец предлагает два варианта: молоко или сок. В немецком языке это выражение звучит как \"Eine Milch oder einen Saft?\" в данном случае нет ошибок, но клиент уже выбирал молоко, поэтому продавец может сказать \"Eine Milch, bitte.\" \n",
      "\n",
      "3. Kunde: Eine Milch, bitte. \n",
      "Клиент уже выбрал молоко, поэтому продавец может закончить диалог, не спрашивая дополн\n"
     ]
    }
   ],
   "source": [
    "example = {\n",
    "    \"system\": \"Ты — преподаватель немецкого языка для русскоязычных студентов. Отвечай чётко, понятно и методически правильно.\",\n",
    "    \"instruction\": \"Проанализируй диалог и укажи грамматические ошибки.\\n\\nKunde: Ich möchte ein Milch.\\nVerkäufer: Eine Milch oder einen Saft?\\nKunde: Eine Milch, bitte.\",\n",
    "}\n",
    "\n",
    "prompt = build_prompt(example[\"system\"], example[\"instruction\"])\n",
    "\n",
    "output = list(pipe(prompt, max_new_tokens=300, do_sample=True, temperature=0.7))[0][\"generated_text\"]\n",
    "\n",
    "print(output[len(prompt):].strip()) \n"
   ]
  }
 ],
 "metadata": {
  "kernelspec": {
   "display_name": ".venv",
   "language": "python",
   "name": "python3"
  },
  "language_info": {
   "codemirror_mode": {
    "name": "ipython",
    "version": 3
   },
   "file_extension": ".py",
   "mimetype": "text/x-python",
   "name": "python",
   "nbconvert_exporter": "python",
   "pygments_lexer": "ipython3",
   "version": "3.11.9"
  }
 },
 "nbformat": 4,
 "nbformat_minor": 2
}
